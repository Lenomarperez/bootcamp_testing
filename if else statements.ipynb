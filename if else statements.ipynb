{
 "cells": [
  {
   "cell_type": "code",
   "execution_count": 13,
   "id": "d761cfce",
   "metadata": {},
   "outputs": [
    {
     "name": "stdout",
     "output_type": "stream",
     "text": [
      "a is less than b\n",
      "a is definitely less than b\n",
      "not sure if a is less than b\n"
     ]
    }
   ],
   "source": [
    "a = 1\n",
    "b = 2\n",
    "if a < b:\n",
    "    print(\"a is less than b\")\n",
    "    print(\"a is definitely less than b\")\n",
    "print(\"not sure if a is less than b\")"
   ]
  },
  {
   "cell_type": "code",
   "execution_count": 25,
   "id": "e2859b69",
   "metadata": {},
   "outputs": [
    {
     "name": "stdout",
     "output_type": "stream",
     "text": [
      "bmi: \n",
      "27.5\n",
      "YK\n",
      "is overweight\n"
     ]
    }
   ],
   "source": [
    "name = \"YK\"\n",
    "height_m = 2\n",
    "weight_kg = 110\n",
    "\n",
    "bmi = weight_kg / (height_m ** 2)\n",
    "print(\"bmi: \")\n",
    "print(bmi)\n",
    "if bmi < 25:\n",
    "    print(name)\n",
    "    print (\"is not overweight\")\n",
    "else:\n",
    "    print(name)\n",
    "    print(\"is overweight\")\n"
   ]
  },
  {
   "cell_type": "code",
   "execution_count": null,
   "id": "cc773e91",
   "metadata": {},
   "outputs": [],
   "source": []
  }
 ],
 "metadata": {
  "kernelspec": {
   "display_name": "Python 3 (ipykernel)",
   "language": "python",
   "name": "python3"
  },
  "language_info": {
   "codemirror_mode": {
    "name": "ipython",
    "version": 3
   },
   "file_extension": ".py",
   "mimetype": "text/x-python",
   "name": "python",
   "nbconvert_exporter": "python",
   "pygments_lexer": "ipython3",
   "version": "3.9.13"
  }
 },
 "nbformat": 4,
 "nbformat_minor": 5
}
